{
 "cells": [
  {
   "cell_type": "markdown",
   "metadata": {},
   "source": [
    "https://www.guru99.com/reading-and-writing-files-in-python.html\n",
    "https://www.tutorialspoint.com/python3/python_files_io.htm"
   ]
  },
  {
   "cell_type": "code",
   "execution_count": 10,
   "metadata": {},
   "outputs": [],
   "source": [
    "f = open(\"tmp/file1.txt\", \"w+\")\n",
    "f.write(\"Hello there\")\n",
    "f.close()\n",
    "# w - creates a new file\n",
    "# w - if there is an existing file, it will be overwritten\n",
    "# w+ - allows to read also"
   ]
  },
  {
   "cell_type": "code",
   "execution_count": 11,
   "metadata": {},
   "outputs": [],
   "source": [
    "f = open(\"tmp/file1.txt\", \"a\")\n",
    "f.write(\"\\nOne more line\")\n",
    "f.close()\n",
    "# a - append exisiting file, it not present it will create a new file\n",
    "# a+ - allows to readd also"
   ]
  },
  {
   "cell_type": "code",
   "execution_count": 3,
   "metadata": {},
   "outputs": [
    {
     "name": "stdout",
     "output_type": "stream",
     "text": [
      "Hello there\n",
      "One more line\n"
     ]
    }
   ],
   "source": [
    "f = open(\"tmp/file1.txt\", \"r\")\n",
    "content = f.read()\n",
    "f.close()\n",
    "print(content)"
   ]
  },
  {
   "cell_type": "code",
   "execution_count": 4,
   "metadata": {},
   "outputs": [
    {
     "name": "stdout",
     "output_type": "stream",
     "text": [
      "Hello there\n",
      "\n"
     ]
    }
   ],
   "source": [
    "f = open(\"tmp/file1.txt\", \"r\")\n",
    "content = f.readline()\n",
    "f.close()\n",
    "print(content)"
   ]
  },
  {
   "cell_type": "code",
   "execution_count": 5,
   "metadata": {},
   "outputs": [
    {
     "name": "stdout",
     "output_type": "stream",
     "text": [
      "Hello there\n",
      "One more line"
     ]
    }
   ],
   "source": [
    "f = open(\"tmp/file1.txt\", \"r\")\n",
    "while True:\n",
    "    content = f.readline()\n",
    "    if not content:\n",
    "        break\n",
    "    print(content, end = \"\")\n",
    "\n",
    "f.close()"
   ]
  },
  {
   "cell_type": "code",
   "execution_count": 14,
   "metadata": {},
   "outputs": [
    {
     "name": "stdout",
     "output_type": "stream",
     "text": [
      "import numpy as np\n",
      "import pandas as pd\n",
      "print(\"from txt file\")\n"
     ]
    }
   ],
   "source": [
    "with open(\"tmp/file1.txt\", \"r\") as f:\n",
    "    while True:\n",
    "        content = f.readline()\n",
    "        if not content:\n",
    "            break\n",
    "        print(content, end = \"\")"
   ]
  },
  {
   "cell_type": "code",
   "execution_count": null,
   "metadata": {},
   "outputs": [],
   "source": []
  }
 ],
 "metadata": {
  "kernelspec": {
   "display_name": "Python 3",
   "language": "python",
   "name": "python3"
  },
  "language_info": {
   "codemirror_mode": {
    "name": "ipython",
    "version": 3
   },
   "file_extension": ".py",
   "mimetype": "text/x-python",
   "name": "python",
   "nbconvert_exporter": "python",
   "pygments_lexer": "ipython3",
   "version": "3.6.5"
  }
 },
 "nbformat": 4,
 "nbformat_minor": 2
}
